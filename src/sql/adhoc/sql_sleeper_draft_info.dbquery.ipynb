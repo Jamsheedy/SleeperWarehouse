{
 "cells": [
  {
   "cell_type": "code",
   "execution_count": 0,
   "metadata": {
    "application/vnd.databricks.v1+cell": {
     "cellMetadata": {
      "byteLimit": 10485760,
      "rowLimit": 1000
     },
     "inputWidgets": {},
     "nuid": "b4f6c51d-391d-48db-be75-2ee20fd244c0",
     "showTitle": false,
     "tableResultSettingsMap": {},
     "title": ""
    }
   },
   "outputs": [],
   "source": [
    "-- try scraping rototrade\n",
    "\n",
    "SELECT * FROM sleeper.bronze_drafts_picks WHERE roster_id = 8\n",
    "\n",
    "SELECT \n",
    "*\n",
    "--roster_id, owner_id \n",
    "FROM sleeper.bronze_rosters\n",
    "\n",
    "\n",
    "SELECT u.user_id as owner_id, u.display_name as owner_name, u.metadata.team_name, r.roster_id, u._YEAR\n",
    "FROM sleeper.bronze_users u\n",
    "  JOIN sleeper.bronze_rosters r ON u.user_id = r.owner_id\n",
    "\n",
    "\n",
    "SELECT draft_id, roster_id, player_id, pick_no, metadata.first_name, metadata.last_name, metadata.injury_status, metadata.team, metadata.position FROM sleeper.bronze_drafts_picks\n",
    "\n",
    "SELECT * FROM sleeper.bronze_drafts_picks\n",
    "\n",
    "SELECT * FROM sleeper.bronze_drafts"
   ]
  }
 ],
 "metadata": {
  "application/vnd.databricks.v1+notebook": {
   "computePreferences": null,
   "dashboards": [],
   "environmentMetadata": null,
   "inputWidgetPreferences": null,
   "language": "sql",
   "notebookMetadata": {
    "pythonIndentUnit": 4,
    "sqlQueryOptions": {
     "applyAutoLimit": true,
     "catalog": "hive_metastore",
     "schema": "default"
    }
   },
   "notebookName": "sql_sleeper_draft_info.dbquery.ipynb",
   "widgets": {}
  },
  "language_info": {
   "name": "sql"
  }
 },
 "nbformat": 4,
 "nbformat_minor": 0
}
