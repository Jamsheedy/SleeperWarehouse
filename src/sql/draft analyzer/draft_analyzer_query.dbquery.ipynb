{
 "cells": [
  {
   "cell_type": "code",
   "execution_count": 0,
   "metadata": {
    "application/vnd.databricks.v1+cell": {
     "cellMetadata": {
      "byteLimit": 10485760,
      "rowLimit": 1000
     },
     "inputWidgets": {},
     "nuid": "e431bfa5-8bf1-46c0-8292-1673ecea055e",
     "showTitle": false,
     "tableResultSettingsMap": {},
     "title": ""
    }
   },
   "outputs": [],
   "source": [
    "SELECT\n",
    "  draft_id,\n",
    "  roster_id,\n",
    "  player_id,\n",
    "  pick_no, \n",
    "  metadata.first_name, \n",
    "  metadata.last_name, \n",
    "  metadata.injury_status, \n",
    "  metadata.team, \n",
    "  metadata.position\n",
    "FROM sleeper.bronze_drafts_picks\n",
    "\n",
    "SELECT * FROM sleeper.silver_users_dim WHERE __END_AT IS NULL\n",
    "\n",
    "SELECT * FROM sleeper.silver_players_dim"
   ]
  }
 ],
 "metadata": {
  "application/vnd.databricks.v1+notebook": {
   "computePreferences": null,
   "dashboards": [],
   "environmentMetadata": null,
   "inputWidgetPreferences": null,
   "language": "sql",
   "notebookMetadata": {
    "pythonIndentUnit": 4,
    "sqlQueryOptions": {
     "applyAutoLimit": true,
     "catalog": "hive_metastore",
     "schema": "default"
    }
   },
   "notebookName": "draft_analyzer_query.dbquery.ipynb",
   "widgets": {}
  },
  "language_info": {
   "name": "sql"
  }
 },
 "nbformat": 4,
 "nbformat_minor": 0
}
