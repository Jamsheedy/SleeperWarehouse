{
 "cells": [
  {
   "cell_type": "code",
   "execution_count": 0,
   "metadata": {
    "application/vnd.databricks.v1+cell": {
     "cellMetadata": {
      "byteLimit": 2048000,
      "rowLimit": 10000
     },
     "inputWidgets": {},
     "nuid": "125233e7-371e-45e3-b5b1-611f887bbd1b",
     "showTitle": false,
     "tableResultSettingsMap": {},
     "title": ""
    }
   },
   "outputs": [],
   "source": [
    "_matchup_week = dbutils.widgets.get(\"matchup_week\")\n",
    "\n",
    "df = spark.sql(\n",
    "f\"SELECT * FROM sleeper.gold_power_rankings WHERE _matchup_week = {_matchup_week} ORDER BY power_rank ASC\"\n",
    ")"
   ]
  },
  {
   "cell_type": "code",
   "execution_count": 0,
   "metadata": {
    "application/vnd.databricks.v1+cell": {
     "cellMetadata": {
      "byteLimit": 2048000,
      "rowLimit": 10000
     },
     "inputWidgets": {},
     "nuid": "3488053d-a6bd-495a-a48c-91f314b2f9be",
     "showTitle": false,
     "tableResultSettingsMap": {},
     "title": ""
    }
   },
   "outputs": [],
   "source": [
    "display(df)"
   ]
  },
  {
   "cell_type": "code",
   "execution_count": 0,
   "metadata": {
    "application/vnd.databricks.v1+cell": {
     "cellMetadata": {
      "byteLimit": 2048000,
      "rowLimit": 10000
     },
     "inputWidgets": {},
     "nuid": "f7ac1dd6-4a56-46c6-9f0d-d3a05e917e30",
     "showTitle": false,
     "tableResultSettingsMap": {},
     "title": ""
    }
   },
   "outputs": [],
   "source": [
    "from pyspark.sql.functions import col, when\n",
    "import json\n",
    "\n",
    "print(f'--- Matchup Week: {_matchup_week} ---')\n",
    "\n",
    "# Step 2: For each row, parse fields exactly as written\n",
    "for row in df.collect():\n",
    "\n",
    "    matchup_summary = f\"{row['matchup_outcome']} against {row['opponent_team_name']} ({row['matchup_points']} - {row['opponent_starter_points']})\"\n",
    "\n",
    "    # Example: List top scorers exactly as found\n",
    "    player_lines = []\n",
    "    for player in row[\"highest_scoring_players\"]:\n",
    "        player_lines.append(f\"{player['highest_scoring_player_name']} ({round(player['highest_scoring_player_points'], 2)})\")\n",
    "\n",
    "    # Example: Bench swap critique only if present\n",
    "    bench_swaps = row[\"bench_better_than_starters\"] if row[\"bench_better_than_starters\"] else []\n",
    "    bench_lines = []\n",
    "\n",
    "    if len(bench_swaps) > 0:\n",
    "        for swap in bench_swaps:\n",
    "            bench_lines.append(f\"Benched {swap['benched_player_name']} ({round(swap['benched_player_points'],2)}) over {swap['starter_player_name']} ({round(swap['starter_player_points'],2)}) and could've added {round(swap['point_opportunity_cost'],2)} pts\")\n",
    "    else:\n",
    "        bench_lines.append(\"None. They played a perfect lineup with the roster they have.\")\n",
    "\n",
    "    decision_impact = (\n",
    "        \"They won their matchup this week reguardless\" if row[\"couldve_won_with_missed_bench_points\"] == None \n",
    "        else \"Their decisions didnt matter as they wouldve lost reguardless\" if row[\"couldve_won_with_missed_bench_points\"] == False \n",
    "        else f\"If they played these players they wouldve won!\"\n",
    "    )\n",
    "\n",
    "    # Step 6: Format header with ranking and emoji\n",
    "    if row[\"power_rank_change\"] == None:\n",
    "        emoji = None\n",
    "    elif row[\"power_rank_change\"] > 0:\n",
    "        emoji = \"▲\"\n",
    "    elif row[\"power_rank_change\"] < 0:\n",
    "        emoji = \"▼\"\n",
    "    else:\n",
    "        emoji = \"■\"\n",
    "\n",
    "    header = f\"{row['power_rank']}. {row['team_name']} ({emoji}{row['power_rank_change']:+})\" if emoji != None else f\"{row['power_rank']}. {row['team_name']}\"\n",
    "\n",
    "    # Step 7: Generate data-driven, paragraph-style commentary\n",
    "    # (This uses only the above variables—never invents anything else.)\n",
    "    # [Here you'd add logic to string together facts as prose]\n",
    "\n",
    "    print(header)\n",
    "    print(\"Owner:\", row[\"owner_name\"])\n",
    "    print(\"Matchup Summary:\", matchup_summary)\n",
    "    print(\"Type of outcome:\", row[\"matchup_outcome_type\"])\n",
    "    print(\"Top 3 star players:\", \", \".join(player_lines))\n",
    "    if bench_lines:\n",
    "        print(\"Bad owner decisions:\", \", \".join(bench_lines))\n",
    "    print('Decisions impact:', decision_impact)\n",
    "    print('Team Streak:', row['team_streak'])\n",
    "    print('Record: ', row['team_total_wins'], '-', row['team_total_losses'], '-', row['team_total_ties'])\n",
    "    print(\"---\")"
   ]
  }
 ],
 "metadata": {
  "application/vnd.databricks.v1+notebook": {
   "computePreferences": null,
   "dashboards": [],
   "environmentMetadata": {
    "base_environment": "",
    "environment_version": "2"
   },
   "inputWidgetPreferences": null,
   "language": "python",
   "notebookMetadata": {
    "mostRecentlyExecutedCommandWithImplicitDF": {
     "commandId": 4858161309995027,
     "dataframes": [
      "_sqldf"
     ]
    },
    "pythonIndentUnit": 4
   },
   "notebookName": "generate_base_commentary",
   "widgets": {
    "matchup_week": {
     "currentValue": "14",
     "nuid": "512aa4cd-0dd6-4546-8f36-b402346c2606",
     "typedWidgetInfo": {
      "autoCreated": false,
      "defaultValue": "14",
      "label": "",
      "name": "matchup_week",
      "options": {
       "widgetDisplayType": "Text",
       "validationRegex": null
      },
      "parameterDataType": "String"
     },
     "widgetInfo": {
      "widgetType": "text",
      "defaultValue": "14",
      "label": "",
      "name": "matchup_week",
      "options": {
       "widgetType": "text",
       "autoCreated": false,
       "validationRegex": null
      }
     }
    }
   }
  },
  "language_info": {
   "name": "python"
  }
 },
 "nbformat": 4,
 "nbformat_minor": 0
}
