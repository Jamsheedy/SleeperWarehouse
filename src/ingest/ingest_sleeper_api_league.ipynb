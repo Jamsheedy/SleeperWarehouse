{
 "cells": [
  {
   "cell_type": "markdown",
   "metadata": {
    "application/vnd.databricks.v1+cell": {
     "cellMetadata": {},
     "inputWidgets": {},
     "nuid": "a2406d5b-5918-4718-a540-31b8ae8c2727",
     "showTitle": false,
     "tableResultSettingsMap": {},
     "title": ""
    }
   },
   "source": [
    "# Sleaper API Relative Endpoints"
   ]
  },
  {
   "cell_type": "code",
   "execution_count": 0,
   "metadata": {
    "application/vnd.databricks.v1+cell": {
     "cellMetadata": {
      "byteLimit": 2048000,
      "rowLimit": 10000
     },
     "inputWidgets": {},
     "nuid": "647394f7-6716-40d0-b3d5-3dd1faa47465",
     "showTitle": false,
     "tableResultSettingsMap": {},
     "title": ""
    }
   },
   "outputs": [],
   "source": [
    "# fetch parameters\n",
    "par_league_id = dbutils.widgets.get(\"LEAGUE_ID\")\n",
    "par_matchup_week = int( dbutils.widgets.get(\"MATCHUP_WEEK\") )\n",
    "par_year = dbutils.widgets.get(\"YEAR\")"
   ]
  },
  {
   "cell_type": "code",
   "execution_count": 0,
   "metadata": {
    "application/vnd.databricks.v1+cell": {
     "cellMetadata": {
      "byteLimit": 2048000,
      "rowLimit": 10000
     },
     "inputWidgets": {},
     "nuid": "393852ec-a6ba-4b4b-89b3-2b93547ba107",
     "showTitle": false,
     "tableResultSettingsMap": {},
     "title": ""
    }
   },
   "outputs": [],
   "source": [
    "%run /Workspace/Users/djamsheedy99@gmail.com/SleeperWarehouse/src/ingest/_utils_sleeper"
   ]
  },
  {
   "cell_type": "code",
   "execution_count": 0,
   "metadata": {
    "application/vnd.databricks.v1+cell": {
     "cellMetadata": {
      "byteLimit": 2048000,
      "rowLimit": 10000
     },
     "inputWidgets": {},
     "nuid": "e09cae53-15f6-4e7c-bfa0-54685a2fa125",
     "showTitle": false,
     "tableResultSettingsMap": {},
     "title": ""
    }
   },
   "outputs": [],
   "source": [
    "ingest_util = SleeperIngestUtil(year = par_year, matchup_week = par_matchup_week, league_id = par_league_id)"
   ]
  },
  {
   "cell_type": "markdown",
   "metadata": {
    "application/vnd.databricks.v1+cell": {
     "cellMetadata": {},
     "inputWidgets": {},
     "nuid": "bef930e7-f85b-4cbe-8d17-bcafc4d0a72c",
     "showTitle": false,
     "tableResultSettingsMap": {},
     "title": ""
    }
   },
   "source": [
    "## v1/league"
   ]
  },
  {
   "cell_type": "code",
   "execution_count": 0,
   "metadata": {
    "application/vnd.databricks.v1+cell": {
     "cellMetadata": {
      "byteLimit": 2048000,
      "rowLimit": 10000
     },
     "inputWidgets": {},
     "nuid": "31cc4364-9579-4511-a3b3-182f6d87c89a",
     "showTitle": false,
     "tableResultSettingsMap": {},
     "title": ""
    }
   },
   "outputs": [],
   "source": [
    "if par_matchup_week > 0:\n",
    "\n",
    "    data = ingest_util.read_api(f\"https://api.sleeper.app/v1/league/{par_league_id}/\")\n",
    "\n",
    "    # add metadata\n",
    "    data = ingest_util.add_metadata([data])\n",
    "    # Write JSON data to a volume with a unique timestamp\n",
    "\n",
    "    endpoint_name = 'league'\n",
    "    ingest_util.write_data(data, endpoint_name)\n",
    "    # dbutils.fs.put(f\"{tgt_dir}/league/{par_year}/league_{par_league_id}_{par_matchup_week}_{timestamp}.json\", json.dumps(data), overwrite=True)"
   ]
  },
  {
   "cell_type": "markdown",
   "metadata": {
    "application/vnd.databricks.v1+cell": {
     "cellMetadata": {
      "byteLimit": 2048000,
      "rowLimit": 10000
     },
     "inputWidgets": {},
     "nuid": "4ebc9e0d-a7e9-43bd-ad5a-6798a098603a",
     "showTitle": false,
     "tableResultSettingsMap": {},
     "title": ""
    }
   },
   "source": [
    "## /v1/league/*"
   ]
  },
  {
   "cell_type": "code",
   "execution_count": 0,
   "metadata": {
    "application/vnd.databricks.v1+cell": {
     "cellMetadata": {
      "byteLimit": 2048000,
      "rowLimit": 10000
     },
     "inputWidgets": {},
     "nuid": "345c2bc6-d6ec-41b9-84ed-551691ee3f0e",
     "showTitle": false,
     "tableResultSettingsMap": {},
     "title": ""
    }
   },
   "outputs": [],
   "source": [
    "if par_matchup_week > 0:\n",
    "    endpoints = ['winners_bracket', 'losers_bracket']\n",
    "    # endpoints = ['rosters', f'matchups/{par_matchup_week}', 'users', f'transactions/{par_matchup_week}', 'traded_picks', 'winners_bracket', 'losers_bracket']\n",
    "\n",
    "    for endpoint in endpoints:\n",
    "\n",
    "        # Fetch data from the API\n",
    "        data = ingest_util.read_api(f\"https://api.sleeper.app/v1/league/{par_league_id}/{endpoint}\")\n",
    "\n",
    "        # add metadata\n",
    "        data = ingest_util.add_metadata(data)\n",
    "        # Write JSON data to a volume with a unique timestamp\n",
    "        endpoint_name = endpoint.split('/')[0]\n",
    "\n",
    "        ingest_util.write_data(data, endpoint_name)\n",
    "        # dbutils.fs.put(f\"{tgt_dir}/{endpoint_dir}/{par_year}/{endpoint_dir}_{par_league_id}_{par_matchup_week}_{timestamp}.json\", json.dumps(data), overwrite=True)"
   ]
  },
  {
   "cell_type": "markdown",
   "metadata": {
    "application/vnd.databricks.v1+cell": {
     "cellMetadata": {
      "byteLimit": 2048000,
      "rowLimit": 10000
     },
     "inputWidgets": {},
     "nuid": "f8b838fc-ce6d-4d48-83f7-e79a15ba1b1d",
     "showTitle": false,
     "tableResultSettingsMap": {},
     "title": ""
    }
   },
   "source": [
    "## v1/drafts"
   ]
  },
  {
   "cell_type": "code",
   "execution_count": 0,
   "metadata": {
    "application/vnd.databricks.v1+cell": {
     "cellMetadata": {
      "byteLimit": 2048000,
      "rowLimit": 10000
     },
     "inputWidgets": {},
     "nuid": "08d44b94-f9f0-439c-b870-c2b687f44f6a",
     "showTitle": false,
     "tableResultSettingsMap": {},
     "title": ""
    }
   },
   "outputs": [],
   "source": [
    "if par_matchup_week == 0:\n",
    "\n",
    "    league_endpoints = ['drafts']\n",
    "\n",
    "    for endpoint in league_endpoints:\n",
    "\n",
    "        # Fetch data from the API\n",
    "        data = ingest_util.read_api(f\"https://api.sleeper.app/v1/league/{par_league_id}/{endpoint}\")\n",
    "\n",
    "        # add metadata\n",
    "        data = ingest_util.add_metadata(data)\n",
    "        # Write JSON data to a volume with a unique timestamp\n",
    "        endpoint_name = endpoint.split('/')[0]\n",
    "\n",
    "        ingest_util.write_data(data, endpoint_name)\n",
    "        # dbutils.fs.put(f\"{tgt_dir}/{endpoint_dir}/{par_year}/{endpoint_dir}_{par_league_id}_{par_matchup_week}_{timestamp}.json\", json.dumps(data), overwrite=True)\n",
    "\n",
    "        latest_draft_id = data[0]['draft_id']\n",
    "\n",
    "        data = ingest_util.read_api(f\"https://api.sleeper.app/v1/draft/{latest_draft_id}/picks\")\n",
    "\n",
    "        data = ingest_util.add_metadata(data)\n",
    "\n",
    "        ingest_util.write_data(data, endpoint_name + '_picks')\n",
    "        # dbutils.fs.put(f\"{tgt_dir}/{endpoint_dir + '_picks'}/{par_year}/{endpoint_dir + '_picks'}_{par_league_id}_{par_matchup_week}_{timestamp}.json\", json.dumps(data), overwrite=True)\n",
    "\n",
    "        data = ingest_util.read_api(f\"https://api.sleeper.app/v1/draft/{latest_draft_id}/traded_picks\")\n",
    "\n",
    "        data = ingest_util.add_metadata(data)\n",
    "\n",
    "        ingest_util.write_data(data, endpoint_name + '_traded_picks')\n",
    "\n",
    "        endpoints = ['users']\n",
    "\n",
    "        for endpoint in endpoints:\n",
    "\n",
    "            # Fetch data from the API\n",
    "            data = ingest_util.read_api(f\"https://api.sleeper.app/v1/league/{par_league_id}/{endpoint}\")\n",
    "            \n",
    "            # add metadata\n",
    "            data = ingest_util.add_metadata(data)\n",
    "            # Write JSON data to a volume with a unique timestamp\n",
    "            endpoint_name = endpoint.split('/')[0]\n",
    "\n",
    "            ingest_util.write_data(data, endpoint_name)\n",
    "            # dbutils.fs.put(f\"{tgt_dir}/{endpoint_dir}/{par_year}/{endpoint_dir}_{par_league_id}_{par_matchup_week}_{timestamp}.json\", json.dumps(data), overwrite=True)\n"
   ]
  }
 ],
 "metadata": {
  "application/vnd.databricks.v1+notebook": {
   "computePreferences": null,
   "dashboards": [],
   "environmentMetadata": null,
   "inputWidgetPreferences": null,
   "language": "python",
   "notebookMetadata": {
    "mostRecentlyExecutedCommandWithImplicitDF": {
     "commandId": 3961169510788926,
     "dataframes": [
      "_sqldf"
     ]
    },
    "pythonIndentUnit": 4
   },
   "notebookName": "ingest_sleeper_api_league",
   "widgets": {
    "LEAGUE_ID": {
     "currentValue": "1124784521578180608",
     "nuid": "81bd059e-b232-43bb-82e9-eba64b53e012",
     "typedWidgetInfo": {
      "autoCreated": false,
      "defaultValue": "1124784521578180608",
      "label": "",
      "name": "LEAGUE_ID",
      "options": {
       "widgetDisplayType": "Text",
       "validationRegex": null
      },
      "parameterDataType": "String"
     },
     "widgetInfo": {
      "widgetType": "text",
      "defaultValue": "1124784521578180608",
      "label": "",
      "name": "LEAGUE_ID",
      "options": {
       "widgetType": "text",
       "autoCreated": false,
       "validationRegex": null
      }
     }
    },
    "MATCHUP_WEEK": {
     "currentValue": "16",
     "nuid": "07a31232-0ccb-44a3-ac99-9732396088c9",
     "typedWidgetInfo": {
      "autoCreated": false,
      "defaultValue": "1",
      "label": "",
      "name": "MATCHUP_WEEK",
      "options": {
       "widgetDisplayType": "Text",
       "validationRegex": null
      },
      "parameterDataType": "String"
     },
     "widgetInfo": {
      "widgetType": "text",
      "defaultValue": "1",
      "label": "",
      "name": "MATCHUP_WEEK",
      "options": {
       "widgetType": "text",
       "autoCreated": false,
       "validationRegex": null
      }
     }
    },
    "YEAR": {
     "currentValue": "2024",
     "nuid": "d6c2d66a-3ab3-44a1-8107-26fcf6b35630",
     "typedWidgetInfo": {
      "autoCreated": false,
      "defaultValue": "2024",
      "label": "",
      "name": "YEAR",
      "options": {
       "widgetDisplayType": "Text",
       "validationRegex": null
      },
      "parameterDataType": "String"
     },
     "widgetInfo": {
      "widgetType": "text",
      "defaultValue": "2024",
      "label": "",
      "name": "YEAR",
      "options": {
       "widgetType": "text",
       "autoCreated": false,
       "validationRegex": null
      }
     }
    }
   }
  },
  "language_info": {
   "name": "python"
  }
 },
 "nbformat": 4,
 "nbformat_minor": 0
}
