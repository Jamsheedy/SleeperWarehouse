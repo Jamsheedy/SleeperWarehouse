{
 "cells": [
  {
   "cell_type": "code",
   "execution_count": 0,
   "metadata": {
    "application/vnd.databricks.v1+cell": {
     "cellMetadata": {
      "byteLimit": 2048000,
      "rowLimit": 10000
     },
     "inputWidgets": {},
     "nuid": "06ba7214-67bd-4819-907f-f9df8f67bf14",
     "showTitle": false,
     "tableResultSettingsMap": {},
     "title": ""
    }
   },
   "outputs": [],
   "source": [
    "%run /Workspace/Users/djamsheedy99@gmail.com/SleeperWarehouse/src/ingest/_utils_sleeper"
   ]
  },
  {
   "cell_type": "code",
   "execution_count": 0,
   "metadata": {
    "application/vnd.databricks.v1+cell": {
     "cellMetadata": {
      "byteLimit": 2048000,
      "rowLimit": 10000
     },
     "inputWidgets": {},
     "nuid": "ea80751b-8a66-4d85-9404-8a38d3826e87",
     "showTitle": false,
     "tableResultSettingsMap": {},
     "title": ""
    }
   },
   "outputs": [],
   "source": [
    "dbutils.fs.ls('/mnt/databricks/sleeper/stg/players/_year=2024/')"
   ]
  },
  {
   "cell_type": "code",
   "execution_count": 0,
   "metadata": {
    "application/vnd.databricks.v1+cell": {
     "cellMetadata": {
      "byteLimit": 2048000,
      "rowLimit": 10000
     },
     "inputWidgets": {},
     "nuid": "757580d5-827a-433f-ac87-0c144aef3b75",
     "showTitle": false,
     "tableResultSettingsMap": {},
     "title": ""
    }
   },
   "outputs": [],
   "source": [
    "import json\n",
    "\n",
    "file_path = \"/mnt/databricks/sleeper/stg/players/_year=2024/_matchup_week=2/players_2_20250713_181714.json\"\n",
    "file_size = dbutils.fs.ls('/mnt/databricks/sleeper/stg/players/_year=2024/_matchup_week=2/players_2_20250713_181714.json')[0].size\n",
    "file_content = dbutils.fs.head(file_path, file_size)"
   ]
  },
  {
   "cell_type": "code",
   "execution_count": 0,
   "metadata": {
    "application/vnd.databricks.v1+cell": {
     "cellMetadata": {
      "byteLimit": 2048000,
      "rowLimit": 10000
     },
     "inputWidgets": {},
     "nuid": "b2e20453-13e2-48fd-bcb3-0faf6f1b84df",
     "showTitle": false,
     "tableResultSettingsMap": {},
     "title": ""
    }
   },
   "outputs": [],
   "source": [
    "par_matchup_week = int(dbutils.widgets.get('_MATCHUP_WEEK'))\n",
    "par_year = int(dbutils.widgets.get('_YEAR'))\n",
    "\n",
    "util = SleeperIngestUtil(year = par_year, matchup_week = par_matchup_week)\n",
    "data = json.loads(file_content)\n",
    "data = util.add_metadata(data)\n",
    "print(data)"
   ]
  },
  {
   "cell_type": "code",
   "execution_count": 0,
   "metadata": {
    "application/vnd.databricks.v1+cell": {
     "cellMetadata": {
      "byteLimit": 2048000,
      "rowLimit": 10000
     },
     "inputWidgets": {},
     "nuid": "7b7fa488-f5e1-4a8a-8804-fafe1f937045",
     "showTitle": false,
     "tableResultSettingsMap": {},
     "title": ""
    }
   },
   "outputs": [],
   "source": [
    "util.write_data(data, 'players')"
   ]
  }
 ],
 "metadata": {
  "application/vnd.databricks.v1+notebook": {
   "computePreferences": null,
   "dashboards": [],
   "environmentMetadata": {
    "base_environment": "",
    "environment_version": "2"
   },
   "inputWidgetPreferences": null,
   "language": "python",
   "notebookMetadata": {
    "pythonIndentUnit": 4
   },
   "notebookName": "_utils_gen_players",
   "widgets": {
    "_MATCHUP_WEEK": {
     "currentValue": "9",
     "nuid": "d098aa16-1a05-4793-a15c-8000cc2abb09",
     "typedWidgetInfo": {
      "autoCreated": false,
      "defaultValue": "1",
      "label": "",
      "name": "_MATCHUP_WEEK",
      "options": {
       "widgetDisplayType": "Dropdown",
       "choices": [
        "1",
        "2",
        "3",
        "4",
        "5",
        "6",
        "7",
        "8",
        "9",
        "10",
        "11",
        "12",
        "13",
        "14",
        "15",
        "16",
        "17"
       ],
       "fixedDomain": true,
       "multiselect": false
      },
      "parameterDataType": "String"
     },
     "widgetInfo": {
      "widgetType": "dropdown",
      "defaultValue": "1",
      "label": "",
      "name": "_MATCHUP_WEEK",
      "options": {
       "widgetType": "dropdown",
       "autoCreated": false,
       "choices": [
        "1",
        "2",
        "3",
        "4",
        "5",
        "6",
        "7",
        "8",
        "9",
        "10",
        "11",
        "12",
        "13",
        "14",
        "15",
        "16",
        "17"
       ]
      }
     }
    },
    "_YEAR": {
     "currentValue": "2024",
     "nuid": "0a7866af-d4ae-4b06-b50f-8fbfa0aea968",
     "typedWidgetInfo": {
      "autoCreated": false,
      "defaultValue": "2024",
      "label": "",
      "name": "_YEAR",
      "options": {
       "widgetDisplayType": "Dropdown",
       "choices": [
        "2024",
        "2025"
       ],
       "fixedDomain": true,
       "multiselect": false
      },
      "parameterDataType": "String"
     },
     "widgetInfo": {
      "widgetType": "dropdown",
      "defaultValue": "2024",
      "label": "",
      "name": "_YEAR",
      "options": {
       "widgetType": "dropdown",
       "autoCreated": false,
       "choices": [
        "2024",
        "2025"
       ]
      }
     }
    }
   }
  },
  "language_info": {
   "name": "python"
  }
 },
 "nbformat": 4,
 "nbformat_minor": 0
}
