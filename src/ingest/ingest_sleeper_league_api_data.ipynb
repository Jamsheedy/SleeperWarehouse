{
 "cells": [
  {
   "cell_type": "markdown",
   "metadata": {
    "application/vnd.databricks.v1+cell": {
     "cellMetadata": {
      "byteLimit": 2048000,
      "rowLimit": 10000
     },
     "inputWidgets": {},
     "nuid": "a2406d5b-5918-4718-a540-31b8ae8c2727",
     "showTitle": false,
     "tableResultSettingsMap": {},
     "title": ""
    }
   },
   "source": [
    "# Sleaper API Relative Endpoints"
   ]
  },
  {
   "cell_type": "code",
   "execution_count": 0,
   "metadata": {
    "application/vnd.databricks.v1+cell": {
     "cellMetadata": {
      "byteLimit": 2048000,
      "rowLimit": 10000
     },
     "inputWidgets": {},
     "nuid": "647394f7-6716-40d0-b3d5-3dd1faa47465",
     "showTitle": false,
     "tableResultSettingsMap": {},
     "title": ""
    }
   },
   "outputs": [],
   "source": [
    "# fetch parameters\n",
    "par_league_id = dbutils.widgets.get(\"LEAGUE_ID\")\n",
    "par_matchup_week = int( dbutils.widgets.get(\"MATCHUP_WEEK\") )\n",
    "par_year = dbutils.widgets.get(\"YEAR\")"
   ]
  },
  {
   "cell_type": "code",
   "execution_count": 0,
   "metadata": {
    "application/vnd.databricks.v1+cell": {
     "cellMetadata": {
      "byteLimit": 2048000,
      "rowLimit": 10000
     },
     "inputWidgets": {},
     "nuid": "393852ec-a6ba-4b4b-89b3-2b93547ba107",
     "showTitle": false,
     "tableResultSettingsMap": {},
     "title": ""
    }
   },
   "outputs": [],
   "source": [
    "import requests\n",
    "import json\n",
    "from datetime import datetime\n",
    "tgt_dir = '/mnt/databricks/sleeper/stg'\n",
    "\n",
    "_TIMESTAMP = datetime.now().strftime('%Y-%m-%d %H:%M:%S')\n",
    "timestamp = datetime.now().strftime('%Y%m%d_%H%M%S')\n",
    "\n",
    "def add_metadata(array_data):\n",
    "    for row in array_data:\n",
    "        row['_year'] = int(par_year)\n",
    "        row['_league_id'] = par_league_id\n",
    "        row['_matchup_week'] = par_matchup_week\n",
    "        row['_ingested_ts'] = _TIMESTAMP\n",
    "    return array_data"
   ]
  },
  {
   "cell_type": "markdown",
   "metadata": {
    "application/vnd.databricks.v1+cell": {
     "cellMetadata": {
      "byteLimit": 2048000,
      "rowLimit": 10000
     },
     "inputWidgets": {},
     "nuid": "4ebc9e0d-a7e9-43bd-ad5a-6798a098603a",
     "showTitle": false,
     "tableResultSettingsMap": {},
     "title": ""
    }
   },
   "source": [
    "## /v1/league/*"
   ]
  },
  {
   "cell_type": "code",
   "execution_count": 0,
   "metadata": {
    "application/vnd.databricks.v1+cell": {
     "cellMetadata": {
      "byteLimit": 2048000,
      "rowLimit": 10000
     },
     "inputWidgets": {},
     "nuid": "345c2bc6-d6ec-41b9-84ed-551691ee3f0e",
     "showTitle": false,
     "tableResultSettingsMap": {},
     "title": ""
    }
   },
   "outputs": [],
   "source": [
    "if par_matchup_week > 0:\n",
    "\n",
    "    endpoints = ['rosters', f'matchups/{par_matchup_week}', 'users', f'transactions/{par_matchup_week}']\n",
    "\n",
    "    for endpoint in endpoints:\n",
    "\n",
    "        # Fetch data from the API\n",
    "        response = requests.get(f\"https://api.sleeper.app/v1/league/{par_league_id}/{endpoint}\")\n",
    "        data = response.json()\n",
    "\n",
    "        # add metadata\n",
    "        data = add_metadata(data)\n",
    "        # Write JSON data to a volume with a unique timestamp\n",
    "        endpoint_dir = endpoint.split('/')[0]\n",
    "\n",
    "        dbutils.fs.put(f\"{tgt_dir}/{endpoint_dir}/{par_year}/{endpoint_dir}_{par_league_id}_{par_matchup_week}_{timestamp}.json\", json.dumps(data), overwrite=True)"
   ]
  },
  {
   "cell_type": "markdown",
   "metadata": {
    "application/vnd.databricks.v1+cell": {
     "cellMetadata": {
      "byteLimit": 2048000,
      "rowLimit": 10000
     },
     "inputWidgets": {},
     "nuid": "8258d849-a9bb-4fe7-8de3-84f936042057",
     "showTitle": false,
     "tableResultSettingsMap": {},
     "title": ""
    }
   },
   "source": [
    "## v1/league"
   ]
  },
  {
   "cell_type": "code",
   "execution_count": 0,
   "metadata": {
    "application/vnd.databricks.v1+cell": {
     "cellMetadata": {
      "byteLimit": 2048000,
      "rowLimit": 10000
     },
     "inputWidgets": {},
     "nuid": "0b2f2272-98a3-4859-96c9-e75e1268d3c8",
     "showTitle": false,
     "tableResultSettingsMap": {},
     "title": ""
    }
   },
   "outputs": [],
   "source": [
    "if par_matchup_week > 0:\n",
    "    \n",
    "    response = requests.get(f\"https://api.sleeper.app/v1/league/{par_league_id}/\")\n",
    "    data = response.json()\n",
    "\n",
    "    # add metadata\n",
    "    data = add_metadata([data])\n",
    "    # Write JSON data to a volume with a unique timestamp\n",
    "\n",
    "    dbutils.fs.put(f\"{tgt_dir}/league/{par_year}/league_{par_league_id}_{par_matchup_week}_{timestamp}.json\", json.dumps(data), overwrite=True)"
   ]
  },
  {
   "cell_type": "markdown",
   "metadata": {
    "application/vnd.databricks.v1+cell": {
     "cellMetadata": {
      "byteLimit": 2048000,
      "rowLimit": 10000
     },
     "inputWidgets": {},
     "nuid": "f8b838fc-ce6d-4d48-83f7-e79a15ba1b1d",
     "showTitle": false,
     "tableResultSettingsMap": {},
     "title": ""
    }
   },
   "source": [
    "## v1/drafts"
   ]
  },
  {
   "cell_type": "code",
   "execution_count": 0,
   "metadata": {
    "application/vnd.databricks.v1+cell": {
     "cellMetadata": {
      "byteLimit": 2048000,
      "rowLimit": 10000
     },
     "inputWidgets": {},
     "nuid": "08d44b94-f9f0-439c-b870-c2b687f44f6a",
     "showTitle": false,
     "tableResultSettingsMap": {},
     "title": ""
    }
   },
   "outputs": [],
   "source": [
    "if par_matchup_week == 0:\n",
    "\n",
    "    league_endpoints = ['drafts']\n",
    "\n",
    "    for endpoint in league_endpoints:\n",
    "\n",
    "        # Fetch data from the API\n",
    "        response = requests.get(f\"https://api.sleeper.app/v1/league/{par_league_id}/{endpoint}\")\n",
    "        data = response.json()\n",
    "\n",
    "        # add metadata\n",
    "        data = add_metadata(data)\n",
    "        # Write JSON data to a volume with a unique timestamp\n",
    "        endpoint_dir = endpoint.split('/')[0]\n",
    "\n",
    "        dbutils.fs.put(f\"{tgt_dir}/{endpoint_dir}/{par_year}/{endpoint_dir}_{par_league_id}_{par_matchup_week}_{timestamp}.json\", json.dumps(data), overwrite=True)\n",
    "\n",
    "        latest_draft_id = data[0]['draft_id']\n",
    "\n",
    "        response = requests.get(f\"https://api.sleeper.app/v1/draft/{latest_draft_id}/picks\")\n",
    "        data = response.json()\n",
    "\n",
    "        data = add_metadata(data)\n",
    "\n",
    "        dbutils.fs.put(f\"{tgt_dir}/{endpoint_dir + '_picks'}/{par_year}/{endpoint_dir + '_picks'}_{par_league_id}_{par_matchup_week}_{timestamp}.json\", json.dumps(data), overwrite=True)\n",
    "\n",
    "        endpoints = ['users']\n",
    "\n",
    "        for endpoint in endpoints:\n",
    "\n",
    "            # Fetch data from the API\n",
    "            response = requests.get(f\"https://api.sleeper.app/v1/league/{par_league_id}/{endpoint}\")\n",
    "            data = response.json()\n",
    "\n",
    "            # add metadata\n",
    "            data = add_metadata(data)\n",
    "            # Write JSON data to a volume with a unique timestamp\n",
    "            endpoint_dir = endpoint.split('/')[0]\n",
    "\n",
    "            dbutils.fs.put(f\"{tgt_dir}/{endpoint_dir}/{par_year}/{endpoint_dir}_{par_league_id}_{par_matchup_week}_{timestamp}.json\", json.dumps(data), overwrite=True)\n"
   ]
  },
  {
   "cell_type": "markdown",
   "metadata": {
    "application/vnd.databricks.v1+cell": {
     "cellMetadata": {
      "byteLimit": 2048000,
      "rowLimit": 10000
     },
     "inputWidgets": {},
     "nuid": "b643a8c3-0108-4aa8-8bc3-2b51e18213a6",
     "showTitle": false,
     "tableResultSettingsMap": {},
     "title": ""
    }
   },
   "source": [
    "## v1/players"
   ]
  },
  {
   "cell_type": "code",
   "execution_count": 0,
   "metadata": {
    "application/vnd.databricks.v1+cell": {
     "cellMetadata": {
      "byteLimit": 2048000,
      "rowLimit": 10000
     },
     "inputWidgets": {},
     "nuid": "f5d6671e-fde3-4b08-91b6-29fc8762d451",
     "showTitle": false,
     "tableResultSettingsMap": {},
     "title": ""
    }
   },
   "outputs": [],
   "source": [
    "if par_matchup_week > 0:\n",
    "    player_api_response = requests.get(f'https://api.sleeper.app/v1/players/nfl')\n",
    "    player_api_raw_json = json.loads(player_api_response.text)\n",
    "\n",
    "    player_api_json = [v for k, v in player_api_raw_json.items() if isinstance(v, dict) and 'player_id' in v.keys()]\n",
    "\n",
    "    player_api_json = add_metadata(player_api_json)\n",
    "    dbutils.fs.put(f\"{tgt_dir}/players/{par_year}/players_{par_league_id}_{par_matchup_week}_{timestamp}.json\", json.dumps(player_api_json), overwrite=True)"
   ]
  }
 ],
 "metadata": {
  "application/vnd.databricks.v1+notebook": {
   "computePreferences": null,
   "dashboards": [],
   "environmentMetadata": null,
   "inputWidgetPreferences": null,
   "language": "python",
   "notebookMetadata": {
    "mostRecentlyExecutedCommandWithImplicitDF": {
     "commandId": 3961169510788926,
     "dataframes": [
      "_sqldf"
     ]
    },
    "pythonIndentUnit": 4
   },
   "notebookName": "ingest_sleeper_league_api_data",
   "widgets": {
    "LEAGUE_ID": {
     "currentValue": "1124784521578180608",
     "nuid": "81bd059e-b232-43bb-82e9-eba64b53e012",
     "typedWidgetInfo": {
      "autoCreated": false,
      "defaultValue": "1124784521578180608",
      "label": "",
      "name": "LEAGUE_ID",
      "options": {
       "widgetDisplayType": "Text",
       "validationRegex": null
      },
      "parameterDataType": "String"
     },
     "widgetInfo": {
      "widgetType": "text",
      "defaultValue": "1124784521578180608",
      "label": "",
      "name": "LEAGUE_ID",
      "options": {
       "widgetType": "text",
       "autoCreated": false,
       "validationRegex": null
      }
     }
    },
    "MATCHUP_WEEK": {
     "currentValue": "15",
     "nuid": "07a31232-0ccb-44a3-ac99-9732396088c9",
     "typedWidgetInfo": {
      "autoCreated": false,
      "defaultValue": "1",
      "label": "",
      "name": "MATCHUP_WEEK",
      "options": {
       "widgetDisplayType": "Text",
       "validationRegex": null
      },
      "parameterDataType": "String"
     },
     "widgetInfo": {
      "widgetType": "text",
      "defaultValue": "1",
      "label": "",
      "name": "MATCHUP_WEEK",
      "options": {
       "widgetType": "text",
       "autoCreated": false,
       "validationRegex": null
      }
     }
    },
    "YEAR": {
     "currentValue": "2024",
     "nuid": "d6c2d66a-3ab3-44a1-8107-26fcf6b35630",
     "typedWidgetInfo": {
      "autoCreated": false,
      "defaultValue": "2024",
      "label": "2024",
      "name": "YEAR",
      "options": {
       "widgetDisplayType": "Text",
       "validationRegex": null
      },
      "parameterDataType": "String"
     },
     "widgetInfo": {
      "widgetType": "text",
      "defaultValue": "2024",
      "label": "2024",
      "name": "YEAR",
      "options": {
       "widgetType": "text",
       "autoCreated": false,
       "validationRegex": null
      }
     }
    }
   }
  },
  "language_info": {
   "name": "python"
  }
 },
 "nbformat": 4,
 "nbformat_minor": 0
}
