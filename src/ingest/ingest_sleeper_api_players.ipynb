{
 "cells": [
  {
   "cell_type": "code",
   "execution_count": 0,
   "metadata": {
    "application/vnd.databricks.v1+cell": {
     "cellMetadata": {
      "byteLimit": 2048000,
      "rowLimit": 10000
     },
     "inputWidgets": {},
     "nuid": "e2f34792-91e6-4fec-b533-d5ee3d36fcaa",
     "showTitle": false,
     "tableResultSettingsMap": {},
     "title": ""
    }
   },
   "outputs": [],
   "source": [
    "# fetch parameters\n",
    "par_matchup_week = int( dbutils.widgets.get(\"MATCHUP_WEEK\") )\n",
    "par_year = dbutils.widgets.get(\"YEAR\")\n",
    "par_lookback_hours = dbutils.widgets.get('TREND_LOOKBACK_HOURS')\n",
    "par_lookback_limit = dbutils.widgets.get('TREND_LOOKBACK_LIMIT')"
   ]
  },
  {
   "cell_type": "code",
   "execution_count": 0,
   "metadata": {
    "application/vnd.databricks.v1+cell": {
     "cellMetadata": {
      "byteLimit": 2048000,
      "rowLimit": 10000
     },
     "inputWidgets": {},
     "nuid": "8ce1bc46-e68a-49c1-8f6c-adadc696574e",
     "showTitle": false,
     "tableResultSettingsMap": {},
     "title": ""
    }
   },
   "outputs": [],
   "source": [
    "%run /Workspace/Users/djamsheedy99@gmail.com/SleeperWarehouse/src/ingest/_utils_sleeper"
   ]
  },
  {
   "cell_type": "code",
   "execution_count": 0,
   "metadata": {
    "application/vnd.databricks.v1+cell": {
     "cellMetadata": {
      "byteLimit": 2048000,
      "rowLimit": 10000
     },
     "inputWidgets": {},
     "nuid": "8f3240d1-ae72-4e26-aa8b-1b1edaf3273d",
     "showTitle": false,
     "tableResultSettingsMap": {},
     "title": ""
    }
   },
   "outputs": [],
   "source": [
    "ingest_util = SleeperIngestUtil(year = par_year, matchup_week = par_matchup_week)"
   ]
  },
  {
   "cell_type": "markdown",
   "metadata": {
    "application/vnd.databricks.v1+cell": {
     "cellMetadata": {
      "byteLimit": 2048000,
      "rowLimit": 10000
     },
     "inputWidgets": {},
     "nuid": "e6651e66-d942-43ec-8777-ea3326694375",
     "showTitle": false,
     "tableResultSettingsMap": {},
     "title": ""
    }
   },
   "source": [
    "## v1/players"
   ]
  },
  {
   "cell_type": "code",
   "execution_count": 0,
   "metadata": {
    "application/vnd.databricks.v1+cell": {
     "cellMetadata": {
      "byteLimit": 2048000,
      "rowLimit": 10000
     },
     "inputWidgets": {},
     "nuid": "703d21c2-01d8-4e37-88d0-d55e55b1497a",
     "showTitle": false,
     "tableResultSettingsMap": {},
     "title": ""
    }
   },
   "outputs": [],
   "source": [
    "if par_matchup_week > 0:\n",
    "    player_api_response = requests.get(f'https://api.sleeper.app/v1/players/nfl')\n",
    "    player_api_raw_json = json.loads(player_api_response.text)\n",
    "\n",
    "    data = [v for k, v in player_api_raw_json.items() if isinstance(v, dict) and 'player_id' in v.keys()]\n",
    "\n",
    "    data = ingest_util.add_metadata(data)\n",
    "\n",
    "    endpoint_name = 'players'\n",
    "    ingest_util.write_data(data, endpoint_name)\n",
    "    # dbutils.fs.put(f\"{tgt_dir}/players/{par_year}/players_{par_league_id}_{par_matchup_week}_{timestamp}.json\", json.dumps(player_api_json), overwrite=True)\n",
    "\n",
    "    trend_types = ['add', 'drop']\n",
    "\n",
    "    for trend_type in trend_types:\n",
    "        data = ingest_util.read_api(f'https://api.sleeper.app/v1/players/nfl/trending/{trend_type}?lookback_hours={par_lookback_hours}&limit={par_lookback_limit}')\n",
    "        data = ingest_util.add_metadata(data)\n",
    "        ingest_util.write_data(data, f'{endpoint_name}_trend_{trend_type}')\n"
   ]
  }
 ],
 "metadata": {
  "application/vnd.databricks.v1+notebook": {
   "computePreferences": null,
   "dashboards": [],
   "environmentMetadata": {
    "base_environment": "",
    "environment_version": "2"
   },
   "inputWidgetPreferences": null,
   "language": "python",
   "notebookMetadata": {
    "pythonIndentUnit": 4
   },
   "notebookName": "ingest_sleeper_api_players",
   "widgets": {
    "MATCHUP_WEEK": {
     "currentValue": "16",
     "nuid": "45ca8c6f-d7b7-4901-978f-af8149086765",
     "typedWidgetInfo": {
      "autoCreated": false,
      "defaultValue": "15",
      "label": "",
      "name": "MATCHUP_WEEK",
      "options": {
       "widgetDisplayType": "Text",
       "validationRegex": null
      },
      "parameterDataType": "String"
     },
     "widgetInfo": {
      "widgetType": "text",
      "defaultValue": "15",
      "label": "",
      "name": "MATCHUP_WEEK",
      "options": {
       "widgetType": "text",
       "autoCreated": false,
       "validationRegex": null
      }
     }
    },
    "TREND_LOOKBACK_HOURS": {
     "currentValue": "24",
     "nuid": "6339af04-a955-4cc8-b61b-9be0d2e8975f",
     "typedWidgetInfo": {
      "autoCreated": false,
      "defaultValue": "25",
      "label": "",
      "name": "TREND_LOOKBACK_HOURS",
      "options": {
       "widgetDisplayType": "Text",
       "validationRegex": null
      },
      "parameterDataType": "String"
     },
     "widgetInfo": {
      "widgetType": "text",
      "defaultValue": "25",
      "label": "",
      "name": "TREND_LOOKBACK_HOURS",
      "options": {
       "widgetType": "text",
       "autoCreated": false,
       "validationRegex": null
      }
     }
    },
    "TREND_LOOKBACK_LIMIT": {
     "currentValue": "25",
     "nuid": "0d110f66-b13f-4172-b53f-c000e62d816b",
     "typedWidgetInfo": {
      "autoCreated": false,
      "defaultValue": "",
      "label": "",
      "name": "TREND_LOOKBACK_LIMIT",
      "options": {
       "widgetDisplayType": "Text",
       "validationRegex": null
      },
      "parameterDataType": "String"
     },
     "widgetInfo": {
      "widgetType": "text",
      "defaultValue": "",
      "label": "",
      "name": "TREND_LOOKBACK_LIMIT",
      "options": {
       "widgetType": "text",
       "autoCreated": false,
       "validationRegex": null
      }
     }
    },
    "YEAR": {
     "currentValue": "2024",
     "nuid": "b8d66bad-abce-4d44-8652-863cec8ac071",
     "typedWidgetInfo": {
      "autoCreated": false,
      "defaultValue": "2024",
      "label": "",
      "name": "YEAR",
      "options": {
       "widgetDisplayType": "Text",
       "validationRegex": null
      },
      "parameterDataType": "String"
     },
     "widgetInfo": {
      "widgetType": "text",
      "defaultValue": "2024",
      "label": "",
      "name": "YEAR",
      "options": {
       "widgetType": "text",
       "autoCreated": false,
       "validationRegex": null
      }
     }
    }
   }
  },
  "language_info": {
   "name": "python"
  }
 },
 "nbformat": 4,
 "nbformat_minor": 0
}
