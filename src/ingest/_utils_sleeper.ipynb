{
 "cells": [
  {
   "cell_type": "code",
   "execution_count": 0,
   "metadata": {
    "application/vnd.databricks.v1+cell": {
     "cellMetadata": {
      "byteLimit": 2048000,
      "rowLimit": 10000
     },
     "inputWidgets": {},
     "nuid": "bb980fd3-7488-4666-bee7-2edfdcad1de0",
     "showTitle": false,
     "tableResultSettingsMap": {},
     "title": ""
    }
   },
   "outputs": [],
   "source": [
    "%run /Workspace/Users/djamsheedy99@gmail.com/SleeperWarehouse/src/ingest/_utils"
   ]
  },
  {
   "cell_type": "code",
   "execution_count": 0,
   "metadata": {
    "application/vnd.databricks.v1+cell": {
     "cellMetadata": {
      "byteLimit": 2048000,
      "rowLimit": 10000
     },
     "inputWidgets": {},
     "nuid": "b474c204-78c5-4748-b9a6-747dfe2f475a",
     "showTitle": false,
     "tableResultSettingsMap": {},
     "title": ""
    }
   },
   "outputs": [],
   "source": [
    "class SleeperIngestUtil(IngestUtil):\n",
    "    def __init__(self, year, matchup_week, league_id = None):\n",
    "\n",
    "        super().__init__()\n",
    "\n",
    "        self.year = year\n",
    "        self.matchup_week = matchup_week\n",
    "        self.league_id = league_id\n",
    "\n",
    "        self.tgt_dir = '/mnt/databricks/sleeper/stg'\n",
    "        self.data_current_ts = self.created_dt.strftime('%Y-%m-%d %H:%M:%S')\n",
    "        self.file_current_ts = self.created_dt.strftime('%Y%m%d_%H%M%S')\n",
    "\n",
    "    def add_metadata(self, array_data, league_id = True):\n",
    "        for row in array_data:\n",
    "            row['_year'] = int(self.year)\n",
    "            if self.league_id:\n",
    "                row['_league_id'] = self.league_id\n",
    "            row['_matchup_week'] = self.matchup_week\n",
    "            row['_ingested_ts'] = self.data_current_ts\n",
    "        return array_data\n",
    "    \n",
    "    def create_file_name(self, endpoint_name):\n",
    "        return f'{self.tgt_dir}/{endpoint_name}/{self.year}/{endpoint_name}{\"_\" + self.league_id if self.league_id else \"\"}_{self.matchup_week}_{self.file_current_ts}.json'\n",
    "    \n",
    "    def write_data(self, data, endpoint_name, overwrite = True):\n",
    "\n",
    "        file_path = self.create_file_name(endpoint_name)\n",
    "\n",
    "        self.write_json_to_dbfs(file_path=file_path, data=data, overwrite = overwrite)\n",
    "\n"
   ]
  }
 ],
 "metadata": {
  "application/vnd.databricks.v1+notebook": {
   "computePreferences": null,
   "dashboards": [],
   "environmentMetadata": {
    "base_environment": "",
    "environment_version": "2"
   },
   "inputWidgetPreferences": null,
   "language": "python",
   "notebookMetadata": {
    "pythonIndentUnit": 4
   },
   "notebookName": "_utils_sleeper",
   "widgets": {}
  },
  "language_info": {
   "name": "python"
  }
 },
 "nbformat": 4,
 "nbformat_minor": 0
}
