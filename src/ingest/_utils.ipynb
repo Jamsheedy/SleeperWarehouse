{
 "cells": [
  {
   "cell_type": "code",
   "execution_count": 0,
   "metadata": {
    "application/vnd.databricks.v1+cell": {
     "cellMetadata": {},
     "inputWidgets": {},
     "nuid": "d6bc6f36-3d06-4ece-88d2-8f798f22ae66",
     "showTitle": false,
     "tableResultSettingsMap": {},
     "title": ""
    }
   },
   "outputs": [],
   "source": [
    "import requests\n",
    "import json\n",
    "from datetime import datetime\n",
    "\n",
    "class IngestUtil():\n",
    "    def __init__(self):\n",
    "        self.created_dt = datetime.now()\n",
    "    \n",
    "    def read_api(self, api_url):\n",
    "        response = requests.get(api_url)\n",
    "        return response.json()\n",
    "    \n",
    "    def write_to_dbfs(self, file_path, content, overwrite = True):\n",
    "        print(f'Writing {file_path}')\n",
    "        dbutils.fs.put(file_path, content, overwrite= overwrite)\n",
    "\n",
    "    def write_json_to_dbfs(self, file_path, data, overwrite = True):\n",
    "        json_content = json.dumps(data)\n",
    "        self.write_to_dbfs(file_path, json_content, overwrite = overwrite)\n",
    "        "
   ]
  }
 ],
 "metadata": {
  "application/vnd.databricks.v1+notebook": {
   "computePreferences": null,
   "dashboards": [],
   "environmentMetadata": {
    "base_environment": "",
    "environment_version": "2"
   },
   "inputWidgetPreferences": null,
   "language": "python",
   "notebookMetadata": {
    "pythonIndentUnit": 4
   },
   "notebookName": "_utils",
   "widgets": {}
  },
  "language_info": {
   "name": "python"
  }
 },
 "nbformat": 4,
 "nbformat_minor": 0
}
