{
 "cells": [
  {
   "cell_type": "code",
   "execution_count": 0,
   "metadata": {
    "application/vnd.databricks.v1+cell": {
     "cellMetadata": {
      "byteLimit": 2048000,
      "rowLimit": 10000
     },
     "inputWidgets": {},
     "nuid": "476b4f1b-a317-48df-9057-9c9a348e365f",
     "showTitle": false,
     "tableResultSettingsMap": {},
     "title": ""
    }
   },
   "outputs": [],
   "source": [
    "par_tables = dbutils.widgets.get('Tables').split(',')\n",
    "par_years = dbutils.widgets.get('Years').split(',')\n",
    "par_filters = [filter.strip() for filter in dbutils.widgets.get('Filters').split(',')]"
   ]
  },
  {
   "cell_type": "code",
   "execution_count": 0,
   "metadata": {
    "application/vnd.databricks.v1+cell": {
     "cellMetadata": {
      "byteLimit": 2048000,
      "rowLimit": 10000
     },
     "inputWidgets": {},
     "nuid": "1a43fdc3-2b2a-47a7-8905-a61fcab3b082",
     "showTitle": false,
     "tableResultSettingsMap": {},
     "title": ""
    }
   },
   "outputs": [],
   "source": [
    "def move_files(source_path, target_path, file_filters):\n",
    "    try:\n",
    "        files = dbutils.fs.ls(source_path)\n",
    "        for file in files:\n",
    "            if all(filter in file.name for filter in file_filters) or len(file_filters) == 0:\n",
    "                target_file_name = target_path + ('/' if target_path[-1] != '/' else '') + file.name\n",
    "                dbutils.fs.mv(file.path, target_path + file.name)\n",
    "                print(f'Moved {file.path.replace(\"dbfs:\", \"\")} to {target_file_name}')\n",
    "    except Exception as e:\n",
    "        print(f'Error moving files: {str(e).split(\":\")[2]}')"
   ]
  },
  {
   "cell_type": "code",
   "execution_count": 0,
   "metadata": {
    "application/vnd.databricks.v1+cell": {
     "cellMetadata": {
      "byteLimit": 2048000,
      "rowLimit": 10000
     },
     "inputWidgets": {},
     "nuid": "3d5186e0-9416-4a4b-b250-d4ae9a81dace",
     "showTitle": false,
     "tableResultSettingsMap": {},
     "title": ""
    }
   },
   "outputs": [],
   "source": [
    "def archive_files(table, year):\n",
    "    source_path = f'/mnt/databricks/sleeper/stg/{table}/{year}'\n",
    "    target_path = source_path.replace('stg', 'archive')\n",
    "\n",
    "    move_files(source_path, target_path, par_filters)\n",
    "\n",
    "def restore_files(table, year):\n",
    "    source_path = f'/mnt/databricks/sleeper/archive/{table}/{year}'\n",
    "    target_path = source_path.replace('archive', 'stg')\n",
    "\n",
    "    move_files(source_path, target_path, par_filters)\n",
    "\n",
    "for year in par_years:\n",
    "    for table in par_tables:\n",
    "\n",
    "        restore_files(table, year)\n"
   ]
  },
  {
   "cell_type": "code",
   "execution_count": 0,
   "metadata": {
    "application/vnd.databricks.v1+cell": {
     "cellMetadata": {
      "byteLimit": 2048000,
      "rowLimit": 10000
     },
     "inputWidgets": {},
     "nuid": "cc475230-5f59-4cd4-bbed-8c7476883a79",
     "showTitle": false,
     "tableResultSettingsMap": {},
     "title": ""
    }
   },
   "outputs": [],
   "source": [
    "dbutils.fs.ls('/mnt/databricks/sleeper/archive/players/2024')"
   ]
  },
  {
   "cell_type": "code",
   "execution_count": 0,
   "metadata": {
    "application/vnd.databricks.v1+cell": {
     "cellMetadata": {
      "byteLimit": 2048000,
      "rowLimit": 10000
     },
     "inputWidgets": {},
     "nuid": "1942b285-6f97-4be7-a97a-6d4b895046e0",
     "showTitle": false,
     "tableResultSettingsMap": {},
     "title": ""
    }
   },
   "outputs": [],
   "source": [
    "# for directory in dbutils.fs.ls('mnt/databricks/sleeper/archive/'):\n",
    "#     files = dbutils.fs.ls(directory.path)\n",
    "\n",
    "#     for file in files:\n",
    "#         file_path = file.path.replace('dbfs:', '')\n",
    "#         target_path = file_path.replace('2024', '2024/')\n",
    "#         print(target_path)\n",
    "#         dbutils.fs.mv(file_path, target_path)\n",
    "#         print(f'Moved {file_path} to {target_path}')\n",
    "        "
   ]
  }
 ],
 "metadata": {
  "application/vnd.databricks.v1+notebook": {
   "computePreferences": null,
   "dashboards": [],
   "environmentMetadata": {
    "base_environment": "",
    "environment_version": "2"
   },
   "inputWidgetPreferences": null,
   "language": "python",
   "notebookMetadata": {
    "pythonIndentUnit": 4
   },
   "notebookName": "stg_archival",
   "widgets": {
    "Filters": {
     "currentValue": "15_20250626",
     "nuid": "ca89d128-36e0-4d13-afb1-94af3116c234",
     "typedWidgetInfo": {
      "autoCreated": false,
      "defaultValue": "20250626",
      "label": "",
      "name": "Filters",
      "options": {
       "widgetDisplayType": "Text",
       "validationRegex": null
      },
      "parameterDataType": "String"
     },
     "widgetInfo": {
      "widgetType": "text",
      "defaultValue": "20250626",
      "label": "",
      "name": "Filters",
      "options": {
       "widgetType": "text",
       "autoCreated": false,
       "validationRegex": null
      }
     }
    },
    "Tables": {
     "currentValue": "players,rosters,users,matchups,league,drafts_picks,drafts",
     "nuid": "46a00cbe-1acd-4a2d-846f-469831d91acc",
     "typedWidgetInfo": {
      "autoCreated": false,
      "defaultValue": "rosters",
      "label": "",
      "name": "Tables",
      "options": {
       "widgetDisplayType": "Dropdown",
       "choices": [
        "drafts",
        "drafts_picks",
        "league",
        "matchups",
        "players",
        "rosters",
        "users"
       ],
       "fixedDomain": true,
       "multiselect": true
      },
      "parameterDataType": "String"
     },
     "widgetInfo": {
      "widgetType": "multiselect",
      "defaultValue": "rosters",
      "label": "",
      "name": "Tables",
      "options": {
       "widgetType": "dropdown",
       "autoCreated": false,
       "choices": [
        "drafts",
        "drafts_picks",
        "league",
        "matchups",
        "players",
        "rosters",
        "users"
       ]
      }
     }
    },
    "Years": {
     "currentValue": "2024",
     "nuid": "2dce1779-14d2-4cf7-9acf-93a5a681d622",
     "typedWidgetInfo": {
      "autoCreated": false,
      "defaultValue": "2024",
      "label": "",
      "name": "Years",
      "options": {
       "widgetDisplayType": "Dropdown",
       "choices": [
        "2024",
        "2025"
       ],
       "fixedDomain": true,
       "multiselect": false
      },
      "parameterDataType": "String"
     },
     "widgetInfo": {
      "widgetType": "dropdown",
      "defaultValue": "2024",
      "label": "",
      "name": "Years",
      "options": {
       "widgetType": "dropdown",
       "autoCreated": false,
       "choices": [
        "2024",
        "2025"
       ]
      }
     }
    }
   }
  },
  "language_info": {
   "name": "python"
  }
 },
 "nbformat": 4,
 "nbformat_minor": 0
}
