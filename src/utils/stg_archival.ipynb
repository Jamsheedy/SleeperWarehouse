{
 "cells": [
  {
   "cell_type": "code",
   "execution_count": 0,
   "metadata": {
    "application/vnd.databricks.v1+cell": {
     "cellMetadata": {
      "byteLimit": 2048000,
      "rowLimit": 10000
     },
     "inputWidgets": {},
     "nuid": "d110aea8-8345-41df-bb04-a2de8e237563",
     "showTitle": false,
     "tableResultSettingsMap": {},
     "title": ""
    }
   },
   "outputs": [],
   "source": [
    "dbutils.fs.ls('/mnt/databricks/sleeper/stg/drafts/_year=2025/_matchup_week=0')"
   ]
  },
  {
   "cell_type": "code",
   "execution_count": 0,
   "metadata": {
    "application/vnd.databricks.v1+cell": {
     "cellMetadata": {
      "byteLimit": 2048000,
      "rowLimit": 10000
     },
     "inputWidgets": {},
     "nuid": "476b4f1b-a317-48df-9057-9c9a348e365f",
     "showTitle": false,
     "tableResultSettingsMap": {},
     "title": ""
    }
   },
   "outputs": [],
   "source": [
    "par_tables = dbutils.widgets.get('Tables').split(',')\n",
    "par_years = dbutils.widgets.get('Years').split(',')\n",
    "par_matchup_weeks = dbutils.widgets.get('MatchupWeeks').split(',')\n",
    "par_filters = [filter.strip() for filter in dbutils.widgets.get('Filters').split(',')]\n",
    "par_mode = dbutils.widgets.get('_Mode')"
   ]
  },
  {
   "cell_type": "code",
   "execution_count": 0,
   "metadata": {
    "application/vnd.databricks.v1+cell": {
     "cellMetadata": {
      "byteLimit": 2048000,
      "rowLimit": 10000
     },
     "inputWidgets": {},
     "nuid": "1a43fdc3-2b2a-47a7-8905-a61fcab3b082",
     "showTitle": false,
     "tableResultSettingsMap": {},
     "title": ""
    }
   },
   "outputs": [],
   "source": [
    "def move_files(source_path, target_path, file_filters):\n",
    "    source_path =  source_path + ('/' if source_path[-1] != '/' else '')\n",
    "    target_path =  target_path + ('/' if target_path[-1] != '/' else '')\n",
    "    try:\n",
    "        files = dbutils.fs.ls(source_path)\n",
    "        for file in files:\n",
    "            if all(filter in file.name for filter in file_filters) or len(file_filters) == 0:\n",
    "                target_file_name = target_path + ('/' if target_path[-1] != '/' else '') + file.name\n",
    "                dbutils.fs.mv(file.path, target_file_name)\n",
    "                print(f'Moved {file.path.replace(\"dbfs:\", \"\")} to {target_file_name}')\n",
    "    except Exception as e:\n",
    "        print(f'Error moving files: {str(e).split(\":\")[2]}')"
   ]
  },
  {
   "cell_type": "code",
   "execution_count": 0,
   "metadata": {
    "application/vnd.databricks.v1+cell": {
     "cellMetadata": {
      "byteLimit": 2048000,
      "rowLimit": 10000
     },
     "inputWidgets": {},
     "nuid": "3d5186e0-9416-4a4b-b250-d4ae9a81dace",
     "showTitle": false,
     "tableResultSettingsMap": {},
     "title": ""
    }
   },
   "outputs": [],
   "source": [
    "def archive_files(table, year, matchup_week):\n",
    "    source_path = f'/mnt/databricks/sleeper/stg/{table}/_year={year}/_matchup_week={matchup_week}'\n",
    "    target_path = source_path.replace('stg', 'archive')\n",
    "\n",
    "    move_files(source_path, target_path, par_filters)\n",
    "\n",
    "def restore_files(table, year, matchup_week):\n",
    "    source_path = f'/mnt/databricks/sleeper/archive/{table}/_year={year}/_matchup_week={matchup_week}'\n",
    "    target_path = source_path.replace('archive', 'stg')\n",
    "\n",
    "    move_files(source_path, target_path, par_filters)\n",
    "\n",
    "for year in par_years:\n",
    "    for table in par_tables:\n",
    "        for matchup_week in par_matchup_weeks:\n",
    "\n",
    "            if par_mode == 'restore':\n",
    "                restore_files(table, year, matchup_week)\n",
    "            elif par_mode == 'archive':\n",
    "                archive_files(table, year, matchup_week)\n",
    "            else:\n",
    "                raise ValueError('Invalid mode: \"{par_mode}\" provided. Valid modes are \"archive\" and \"restore\"')\n"
   ]
  },
  {
   "cell_type": "code",
   "execution_count": 0,
   "metadata": {
    "application/vnd.databricks.v1+cell": {
     "cellMetadata": {
      "byteLimit": 2048000,
      "rowLimit": 10000
     },
     "inputWidgets": {},
     "nuid": "1942b285-6f97-4be7-a97a-6d4b895046e0",
     "showTitle": false,
     "tableResultSettingsMap": {},
     "title": ""
    }
   },
   "outputs": [],
   "source": [
    "# for directory in dbutils.fs.ls('mnt/databricks/sleeper/archive/'):\n",
    "#     files = dbutils.fs.ls(directory.path)\n",
    "\n",
    "#     for file in files:\n",
    "#         file_path = file.path.replace('dbfs:', '')\n",
    "#         target_path = file_path.replace('2024', '2024/')\n",
    "#         print(target_path)\n",
    "#         dbutils.fs.mv(file_path, target_path)\n",
    "#         print(f'Moved {file_path} to {target_path}')\n",
    "        "
   ]
  },
  {
   "cell_type": "code",
   "execution_count": 0,
   "metadata": {
    "application/vnd.databricks.v1+cell": {
     "cellMetadata": {
      "byteLimit": 2048000,
      "rowLimit": 10000
     },
     "inputWidgets": {},
     "nuid": "b36f7988-df49-4630-b69e-837356945ae8",
     "showTitle": false,
     "tableResultSettingsMap": {},
     "title": ""
    }
   },
   "outputs": [],
   "source": [
    "# dirs = dbutils.fs.ls('/mnt/databricks/sleeper/stg/')\n",
    "# for dir in dirs:\n",
    "#     years = dbutils.fs.ls(dir.path)\n",
    "#     years = [year for year in years if year.name == '2024/']\n",
    "#     for year in years:\n",
    "#         for matchup_week in dbutils.fs.ls(year.path):\n",
    "#             for records in dbutils.fs.ls(matchup_week.path):\n",
    "#                 target_path = records.path.replace('2024/', '_year=2024/').replace('1/', '_matchup_week=1/')\n",
    "\n",
    "#                 print(f'Moving {records.path} to {target_path}')\n",
    "#                 dbutils.fs.mv(\n",
    "#                     records.path,\n",
    "#                     target_path\n",
    "#                 )\n",
    "        \n",
    "#         print(f'Removing dir: {year.path}')\n",
    "#         dbutils.fs.rm(year.path, recurse=True)"
   ]
  }
 ],
 "metadata": {
  "application/vnd.databricks.v1+notebook": {
   "computePreferences": null,
   "dashboards": [],
   "environmentMetadata": {
    "base_environment": "",
    "environment_version": "2"
   },
   "inputWidgetPreferences": null,
   "language": "python",
   "notebookMetadata": {
    "mostRecentlyExecutedCommandWithImplicitDF": {
     "commandId": 7878177404950192,
     "dataframes": [
      "_sqldf"
     ]
    },
    "pythonIndentUnit": 4
   },
   "notebookName": "stg_archival",
   "widgets": {
    "Filters": {
     "currentValue": "",
     "nuid": "ca89d128-36e0-4d13-afb1-94af3116c234",
     "typedWidgetInfo": {
      "autoCreated": false,
      "defaultValue": "20250626",
      "label": "",
      "name": "Filters",
      "options": {
       "widgetDisplayType": "Text",
       "validationRegex": null
      },
      "parameterDataType": "String"
     },
     "widgetInfo": {
      "widgetType": "text",
      "defaultValue": "20250626",
      "label": "",
      "name": "Filters",
      "options": {
       "widgetType": "text",
       "autoCreated": false,
       "validationRegex": null
      }
     }
    },
    "MatchupWeeks": {
     "currentValue": "0",
     "nuid": "1e1f3f73-dd8a-4885-aa43-97cb9ded1218",
     "typedWidgetInfo": {
      "autoCreated": false,
      "defaultValue": "0",
      "label": "",
      "name": "MatchupWeeks",
      "options": {
       "widgetDisplayType": "Dropdown",
       "choices": [
        "0",
        "1",
        "2",
        "3",
        "4",
        "5",
        "6",
        "7",
        "8",
        "9",
        "10",
        "11",
        "12",
        "13",
        "14",
        "15",
        "16",
        "17"
       ],
       "fixedDomain": true,
       "multiselect": true
      },
      "parameterDataType": "String"
     },
     "widgetInfo": {
      "widgetType": "multiselect",
      "defaultValue": "0",
      "label": "",
      "name": "MatchupWeeks",
      "options": {
       "widgetType": "dropdown",
       "autoCreated": false,
       "choices": [
        "0",
        "1",
        "2",
        "3",
        "4",
        "5",
        "6",
        "7",
        "8",
        "9",
        "10",
        "11",
        "12",
        "13",
        "14",
        "15",
        "16",
        "17"
       ]
      }
     }
    },
    "Tables": {
     "currentValue": "drafts,drafts_picks,users",
     "nuid": "46a00cbe-1acd-4a2d-846f-469831d91acc",
     "typedWidgetInfo": {
      "autoCreated": false,
      "defaultValue": "rosters",
      "label": "",
      "name": "Tables",
      "options": {
       "widgetDisplayType": "Dropdown",
       "choices": [
        "drafts",
        "drafts_picks",
        "league",
        "matchups",
        "players",
        "rosters",
        "users",
        "winners_bracket",
        "losers_bracket",
        "players_trend_add",
        "players_trend_drop",
        "transactions"
       ],
       "fixedDomain": true,
       "multiselect": true
      },
      "parameterDataType": "String"
     },
     "widgetInfo": {
      "widgetType": "multiselect",
      "defaultValue": "rosters",
      "label": "",
      "name": "Tables",
      "options": {
       "widgetType": "dropdown",
       "autoCreated": false,
       "choices": [
        "drafts",
        "drafts_picks",
        "league",
        "matchups",
        "players",
        "rosters",
        "users",
        "winners_bracket",
        "losers_bracket",
        "players_trend_add",
        "players_trend_drop",
        "transactions"
       ]
      }
     }
    },
    "Years": {
     "currentValue": "2025",
     "nuid": "2dce1779-14d2-4cf7-9acf-93a5a681d622",
     "typedWidgetInfo": {
      "autoCreated": false,
      "defaultValue": "2024",
      "label": "",
      "name": "Years",
      "options": {
       "widgetDisplayType": "Dropdown",
       "choices": [
        "2024",
        "2025"
       ],
       "fixedDomain": true,
       "multiselect": false
      },
      "parameterDataType": "String"
     },
     "widgetInfo": {
      "widgetType": "dropdown",
      "defaultValue": "2024",
      "label": "",
      "name": "Years",
      "options": {
       "widgetType": "dropdown",
       "autoCreated": false,
       "choices": [
        "2024",
        "2025"
       ]
      }
     }
    },
    "_Mode": {
     "currentValue": "archive",
     "nuid": "b5078331-d144-44f7-91fc-d6fa85c30003",
     "typedWidgetInfo": {
      "autoCreated": false,
      "defaultValue": "archive",
      "label": "",
      "name": "_Mode",
      "options": {
       "widgetDisplayType": "Dropdown",
       "choices": [
        "archive",
        "restore"
       ],
       "fixedDomain": true,
       "multiselect": false
      },
      "parameterDataType": "String"
     },
     "widgetInfo": {
      "widgetType": "dropdown",
      "defaultValue": "archive",
      "label": "",
      "name": "_Mode",
      "options": {
       "widgetType": "dropdown",
       "autoCreated": false,
       "choices": [
        "archive",
        "restore"
       ]
      }
     }
    }
   }
  },
  "language_info": {
   "name": "python"
  }
 },
 "nbformat": 4,
 "nbformat_minor": 0
}
